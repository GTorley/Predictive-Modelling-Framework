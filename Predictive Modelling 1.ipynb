{
 "cells": [
  {
   "cell_type": "markdown",
   "metadata": {},
   "source": [
    "simple tutorial for the binary Pima Indians Diabetes Database\n",
    "-Number of Instances: 768\n",
    "\n",
    "-Number of Attributes: 8 plus class \n",
    "\n",
    "-For Each Attribute: (all numeric-valued)\n",
    "   1. Number of times pregnant\n",
    "   2. Plasma glucose concentration a 2 hours in an oral glucose tolerance test\n",
    "   3. Diastolic blood pressure (mm Hg)\n",
    "   4. Triceps skin fold thickness (mm)\n",
    "   5. 2-Hour serum insulin (mu U/ml)\n",
    "   6. Body mass index (weight in kg/(height in m)^2)\n",
    "   7. Diabetes pedigree function\n",
    "   8. Age (years)\n",
    "   9. Class variable (0 or 1)\n",
    "\n",
    "-Missing Attribute Values: Yes\n",
    "\n",
    "-Class Distribution: (class value 1 is interpreted as \"tested positive for\n",
    "   diabetes\")\n",
    "\n",
    "   Class Value  Number of instances\n",
    "   0            500\n",
    "   1            268"
   ]
  },
  {
   "cell_type": "markdown",
   "metadata": {},
   "source": [
    "### Packages"
   ]
  },
  {
   "cell_type": "code",
   "execution_count": null,
   "metadata": {},
   "outputs": [],
   "source": [
    "import pandas as pd"
   ]
  },
  {
   "cell_type": "markdown",
   "metadata": {},
   "source": [
    "### Data"
   ]
  },
  {
   "cell_type": "code",
   "execution_count": null,
   "metadata": {},
   "outputs": [],
   "source": [
    "path = \"c:\\\\datasets\\\\pima-indians-diabetes.csv\"\n",
    "columns = ['Pregnancies','PlasmaGlucoseConc','DBloodPressure','TricepsSkinFoldThick',\n",
    "           'TwoHoursSerumInsulin','BMI','DiabetesPedigreeFunction','Age','target']\n",
    "   # Number of times pregnant\n",
    "   # Plasma glucose concentration a 2 hours in an oral glucose tolerance test\n",
    "   # Diastolic blood pressure (mm Hg)\n",
    "   # Triceps skin fold thickness (mm)\n",
    "   # 2-Hour serum insulin (mu U/ml)\n",
    "   # Body mass index (weight in kg/(height in m)^2)\n",
    "   # Diabetes pedigree function\n",
    "   # Age (years)\n",
    "   # Class variable (0 or 1)\n"
   ]
  }
 ],
 "metadata": {
  "kernelspec": {
   "display_name": "Python 3",
   "language": "python",
   "name": "python3"
  },
  "language_info": {
   "codemirror_mode": {
    "name": "ipython",
    "version": 3
   },
   "file_extension": ".py",
   "mimetype": "text/x-python",
   "name": "python",
   "nbconvert_exporter": "python",
   "pygments_lexer": "ipython3",
   "version": "3.6.10"
  }
 },
 "nbformat": 4,
 "nbformat_minor": 4
}
